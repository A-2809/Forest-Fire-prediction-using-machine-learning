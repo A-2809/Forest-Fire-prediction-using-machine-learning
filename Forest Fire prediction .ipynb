{
 "cells": [
  {
   "cell_type": "code",
   "execution_count": 5,
   "id": "b4534204",
   "metadata": {},
   "outputs": [
    {
     "name": "stdout",
     "output_type": "stream",
     "text": [
      "     X  Y month  day  FFMC    DMC     DC   ISI  temp  RH  wind  rain   area\n",
      "0    7  5   mar  fri  86.2   26.2   94.3   5.1   8.2  51   6.7   0.0   0.00\n",
      "1    7  4   oct  tue  90.6   35.4  669.1   6.7  18.0  33   0.9   0.0   0.00\n",
      "2    7  4   oct  sat  90.6   43.7  686.9   6.7  14.6  33   1.3   0.0   0.00\n",
      "3    8  6   mar  fri  91.7   33.3   77.5   9.0   8.3  97   4.0   0.2   0.00\n",
      "4    8  6   mar  sun  89.3   51.3  102.2   9.6  11.4  99   1.8   0.0   0.00\n",
      "..  .. ..   ...  ...   ...    ...    ...   ...   ...  ..   ...   ...    ...\n",
      "512  4  3   aug  sun  81.6   56.7  665.6   1.9  27.8  32   2.7   0.0   6.44\n",
      "513  2  4   aug  sun  81.6   56.7  665.6   1.9  21.9  71   5.8   0.0  54.29\n",
      "514  7  4   aug  sun  81.6   56.7  665.6   1.9  21.2  70   6.7   0.0  11.16\n",
      "515  1  4   aug  sat  94.4  146.0  614.7  11.3  25.6  42   4.0   0.0   0.00\n",
      "516  6  3   nov  tue  79.5    3.0  106.7   1.1  11.8  31   4.5   0.0   0.00\n",
      "\n",
      "[517 rows x 13 columns]\n"
     ]
    }
   ],
   "source": [
    "#including the required libraries\n",
    "import matplotlib.pyplot as plt\n",
    "import pandas as pd\n",
    "import numpy as np\n",
    "\n",
    "#importing the csv file\n",
    "df_forest = pd.read_csv (r'C:\\Users\\archana\\Downloads\\forestfires.csv')\n",
    "print (df_forest)"
   ]
  },
  {
   "cell_type": "code",
   "execution_count": 14,
   "id": "fc9acf8c",
   "metadata": {},
   "outputs": [
    {
     "data": {
      "text/html": [
       "<div>\n",
       "<style scoped>\n",
       "    .dataframe tbody tr th:only-of-type {\n",
       "        vertical-align: middle;\n",
       "    }\n",
       "\n",
       "    .dataframe tbody tr th {\n",
       "        vertical-align: top;\n",
       "    }\n",
       "\n",
       "    .dataframe thead th {\n",
       "        text-align: right;\n",
       "    }\n",
       "</style>\n",
       "<table border=\"1\" class=\"dataframe\">\n",
       "  <thead>\n",
       "    <tr style=\"text-align: right;\">\n",
       "      <th></th>\n",
       "      <th>X</th>\n",
       "      <th>Y</th>\n",
       "      <th>FFMC</th>\n",
       "      <th>DMC</th>\n",
       "      <th>DC</th>\n",
       "      <th>ISI</th>\n",
       "      <th>temp</th>\n",
       "      <th>RH</th>\n",
       "      <th>wind</th>\n",
       "      <th>rain</th>\n",
       "    </tr>\n",
       "  </thead>\n",
       "  <tbody>\n",
       "    <tr>\n",
       "      <th>0</th>\n",
       "      <td>7</td>\n",
       "      <td>5</td>\n",
       "      <td>86.2</td>\n",
       "      <td>26.2</td>\n",
       "      <td>94.3</td>\n",
       "      <td>5.1</td>\n",
       "      <td>8.2</td>\n",
       "      <td>51</td>\n",
       "      <td>6.7</td>\n",
       "      <td>0.0</td>\n",
       "    </tr>\n",
       "    <tr>\n",
       "      <th>1</th>\n",
       "      <td>7</td>\n",
       "      <td>4</td>\n",
       "      <td>90.6</td>\n",
       "      <td>35.4</td>\n",
       "      <td>669.1</td>\n",
       "      <td>6.7</td>\n",
       "      <td>18.0</td>\n",
       "      <td>33</td>\n",
       "      <td>0.9</td>\n",
       "      <td>0.0</td>\n",
       "    </tr>\n",
       "    <tr>\n",
       "      <th>2</th>\n",
       "      <td>7</td>\n",
       "      <td>4</td>\n",
       "      <td>90.6</td>\n",
       "      <td>43.7</td>\n",
       "      <td>686.9</td>\n",
       "      <td>6.7</td>\n",
       "      <td>14.6</td>\n",
       "      <td>33</td>\n",
       "      <td>1.3</td>\n",
       "      <td>0.0</td>\n",
       "    </tr>\n",
       "    <tr>\n",
       "      <th>3</th>\n",
       "      <td>8</td>\n",
       "      <td>6</td>\n",
       "      <td>91.7</td>\n",
       "      <td>33.3</td>\n",
       "      <td>77.5</td>\n",
       "      <td>9.0</td>\n",
       "      <td>8.3</td>\n",
       "      <td>97</td>\n",
       "      <td>4.0</td>\n",
       "      <td>0.2</td>\n",
       "    </tr>\n",
       "    <tr>\n",
       "      <th>4</th>\n",
       "      <td>8</td>\n",
       "      <td>6</td>\n",
       "      <td>89.3</td>\n",
       "      <td>51.3</td>\n",
       "      <td>102.2</td>\n",
       "      <td>9.6</td>\n",
       "      <td>11.4</td>\n",
       "      <td>99</td>\n",
       "      <td>1.8</td>\n",
       "      <td>0.0</td>\n",
       "    </tr>\n",
       "    <tr>\n",
       "      <th>...</th>\n",
       "      <td>...</td>\n",
       "      <td>...</td>\n",
       "      <td>...</td>\n",
       "      <td>...</td>\n",
       "      <td>...</td>\n",
       "      <td>...</td>\n",
       "      <td>...</td>\n",
       "      <td>...</td>\n",
       "      <td>...</td>\n",
       "      <td>...</td>\n",
       "    </tr>\n",
       "    <tr>\n",
       "      <th>512</th>\n",
       "      <td>4</td>\n",
       "      <td>3</td>\n",
       "      <td>81.6</td>\n",
       "      <td>56.7</td>\n",
       "      <td>665.6</td>\n",
       "      <td>1.9</td>\n",
       "      <td>27.8</td>\n",
       "      <td>32</td>\n",
       "      <td>2.7</td>\n",
       "      <td>0.0</td>\n",
       "    </tr>\n",
       "    <tr>\n",
       "      <th>513</th>\n",
       "      <td>2</td>\n",
       "      <td>4</td>\n",
       "      <td>81.6</td>\n",
       "      <td>56.7</td>\n",
       "      <td>665.6</td>\n",
       "      <td>1.9</td>\n",
       "      <td>21.9</td>\n",
       "      <td>71</td>\n",
       "      <td>5.8</td>\n",
       "      <td>0.0</td>\n",
       "    </tr>\n",
       "    <tr>\n",
       "      <th>514</th>\n",
       "      <td>7</td>\n",
       "      <td>4</td>\n",
       "      <td>81.6</td>\n",
       "      <td>56.7</td>\n",
       "      <td>665.6</td>\n",
       "      <td>1.9</td>\n",
       "      <td>21.2</td>\n",
       "      <td>70</td>\n",
       "      <td>6.7</td>\n",
       "      <td>0.0</td>\n",
       "    </tr>\n",
       "    <tr>\n",
       "      <th>515</th>\n",
       "      <td>1</td>\n",
       "      <td>4</td>\n",
       "      <td>94.4</td>\n",
       "      <td>146.0</td>\n",
       "      <td>614.7</td>\n",
       "      <td>11.3</td>\n",
       "      <td>25.6</td>\n",
       "      <td>42</td>\n",
       "      <td>4.0</td>\n",
       "      <td>0.0</td>\n",
       "    </tr>\n",
       "    <tr>\n",
       "      <th>516</th>\n",
       "      <td>6</td>\n",
       "      <td>3</td>\n",
       "      <td>79.5</td>\n",
       "      <td>3.0</td>\n",
       "      <td>106.7</td>\n",
       "      <td>1.1</td>\n",
       "      <td>11.8</td>\n",
       "      <td>31</td>\n",
       "      <td>4.5</td>\n",
       "      <td>0.0</td>\n",
       "    </tr>\n",
       "  </tbody>\n",
       "</table>\n",
       "<p>517 rows × 10 columns</p>\n",
       "</div>"
      ],
      "text/plain": [
       "     X  Y  FFMC    DMC     DC   ISI  temp  RH  wind  rain\n",
       "0    7  5  86.2   26.2   94.3   5.1   8.2  51   6.7   0.0\n",
       "1    7  4  90.6   35.4  669.1   6.7  18.0  33   0.9   0.0\n",
       "2    7  4  90.6   43.7  686.9   6.7  14.6  33   1.3   0.0\n",
       "3    8  6  91.7   33.3   77.5   9.0   8.3  97   4.0   0.2\n",
       "4    8  6  89.3   51.3  102.2   9.6  11.4  99   1.8   0.0\n",
       "..  .. ..   ...    ...    ...   ...   ...  ..   ...   ...\n",
       "512  4  3  81.6   56.7  665.6   1.9  27.8  32   2.7   0.0\n",
       "513  2  4  81.6   56.7  665.6   1.9  21.9  71   5.8   0.0\n",
       "514  7  4  81.6   56.7  665.6   1.9  21.2  70   6.7   0.0\n",
       "515  1  4  94.4  146.0  614.7  11.3  25.6  42   4.0   0.0\n",
       "516  6  3  79.5    3.0  106.7   1.1  11.8  31   4.5   0.0\n",
       "\n",
       "[517 rows x 10 columns]"
      ]
     },
     "execution_count": 14,
     "metadata": {},
     "output_type": "execute_result"
    }
   ],
   "source": [
    "x=df_forest.loc[:,['X','Y','FFMC','DMC','DC','ISI','temp','RH','wind','rain']]\n",
    "y=df_forest.iloc[:,-1]\n",
    "x"
   ]
  },
  {
   "cell_type": "code",
   "execution_count": 15,
   "id": "817f06ee",
   "metadata": {},
   "outputs": [
    {
     "data": {
      "text/plain": [
       "array([[ 1.00831277,  0.56986043, -0.80595947, ...,  0.41172435,\n",
       "         1.49861442, -0.07326831],\n",
       "       [ 1.00831277, -0.24400101, -0.00810203, ..., -0.69245628,\n",
       "        -1.74175564, -0.07326831],\n",
       "       [ 1.00831277, -0.24400101, -0.00810203, ..., -0.69245628,\n",
       "        -1.51828184, -0.07326831],\n",
       "       ...,\n",
       "       [ 1.00831277, -0.24400101, -1.64008316, ...,  1.57724834,\n",
       "         1.49861442, -0.07326831],\n",
       "       [-1.58736044, -0.24400101,  0.68095666, ..., -0.14036597,\n",
       "        -0.00983371, -0.07326831],\n",
       "       [ 0.57570057, -1.05786246, -2.02087875, ..., -0.81514302,\n",
       "         0.26950853, -0.07326831]])"
      ]
     },
     "execution_count": 15,
     "metadata": {},
     "output_type": "execute_result"
    }
   ],
   "source": [
    "from sklearn.model_selection import train_test_split\n",
    "from sklearn.linear_model import LinearRegression\n",
    "from sklearn.preprocessing import StandardScaler\n",
    "scaler=StandardScaler()\n",
    "scaler.fit_transform(x)\n"
   ]
  },
  {
   "cell_type": "code",
   "execution_count": 21,
   "id": "b6ac4181",
   "metadata": {},
   "outputs": [
    {
     "data": {
      "text/plain": [
       "LinearRegression()"
      ]
     },
     "execution_count": 21,
     "metadata": {},
     "output_type": "execute_result"
    }
   ],
   "source": [
    "#Creating linear regression model MODEL1 to predict the data of area\n",
    "from sklearn import preprocessing\n",
    "from sklearn.preprocessing import StandardScaler\n",
    "\n",
    "x_train,X_test,y_train,y_test=train_test_split(x,y,test_size=0.20, random_state=5)\n",
    "\n",
    "MODEL1=LinearRegression()\n",
    "MODEL1.fit(x_train,y_train)"
   ]
  },
  {
   "cell_type": "code",
   "execution_count": 22,
   "id": "48feb35a",
   "metadata": {},
   "outputs": [
    {
     "data": {
      "text/plain": [
       "array([20.68523594,  1.80566183,  7.46368083, 28.12636012,  3.79518316,\n",
       "       22.96447661, 21.13866426, 27.9828538 ,  1.30475076, 23.98856045,\n",
       "       15.06907608, 22.24986612, 20.64090994, 22.71184683, 15.54649946,\n",
       "       10.72601395, 14.47621582, 19.50859073,  5.94991126, 12.52966276,\n",
       "        7.79903446, 21.17282814,  7.20235   , 12.49720081,  4.7934489 ,\n",
       "        7.82045566,  3.57299693,  6.60258109,  3.84609582, 11.21900808,\n",
       "        5.88994783,  6.71080405,  8.47561089, 17.8326537 , 25.41196325,\n",
       "        7.44938504, 24.15624785, 14.7710441 ,  4.74340486,  6.76952584,\n",
       "       31.15562777, 12.28157863,  9.42678705,  0.23814431, 16.15684652,\n",
       "       23.51394435,  7.27080871,  1.85861982, 16.25635233, 27.45879362,\n",
       "        7.50656308,  8.01700228,  5.08917509, 11.88946781, 10.26178347,\n",
       "       -0.15254765,  2.24855099,  4.82405887,  5.28622443,  7.40909431,\n",
       "       18.70759978, 13.8735271 , 19.87050146, 13.50162566, 12.80885004,\n",
       "        6.14072949, 11.84223711,  5.91168144, 27.22111469, 26.03359303,\n",
       "        9.34322687, 24.9129601 ,  6.44921115, 13.76339896, 18.29156334,\n",
       "       12.7659847 , -0.1826842 ,  7.95051453,  8.13849353, 18.26306249,\n",
       "        4.53424149, 11.53892115, 11.35984482,  6.68978944,  7.7954073 ,\n",
       "       11.63998256,  4.46590503,  5.33312791, 12.01805283, 12.01535292,\n",
       "        0.08307015,  9.28611717,  1.46835041,  9.02186962, 10.20979454,\n",
       "        7.26944649,  5.02610708, 21.5684832 ,  7.73192621, 15.33477669,\n",
       "       29.52420364, 11.95830887, 13.37701013, 11.63998256])"
      ]
     },
     "execution_count": 22,
     "metadata": {},
     "output_type": "execute_result"
    }
   ],
   "source": [
    "predicted_m1 = MODEL1.predict(X_test)\n",
    "predicted_m1"
   ]
  },
  {
   "cell_type": "code",
   "execution_count": 23,
   "id": "33e74a47",
   "metadata": {},
   "outputs": [
    {
     "data": {
      "text/plain": [
       "0.011689501209142583"
      ]
     },
     "execution_count": 23,
     "metadata": {},
     "output_type": "execute_result"
    }
   ],
   "source": [
    "from sklearn.metrics import r2_score,mean_squared_error\n",
    "score_r2=r2_score(y_test,predicted_m1)\n",
    "score_r2"
   ]
  },
  {
   "cell_type": "code",
   "execution_count": 24,
   "id": "6dcc9c88",
   "metadata": {},
   "outputs": [
    {
     "name": "stdout",
     "output_type": "stream",
     "text": [
      "MSE = 11322.36512222583\n",
      "MAE = 22.799012781369\n"
     ]
    }
   ],
   "source": [
    "from sklearn.metrics import mean_squared_error as mse\n",
    "from sklearn.metrics import mean_absolute_error as mae\n",
    "from sklearn.metrics import r2_score\n",
    "\n",
    "print('MSE =', mse(predicted_m1, y_test))\n",
    "print('MAE =', mae(predicted_m1, y_test))"
   ]
  },
  {
   "cell_type": "code",
   "execution_count": 25,
   "id": "5d9ee758",
   "metadata": {},
   "outputs": [
    {
     "data": {
      "text/plain": [
       "0.011689501209142583"
      ]
     },
     "execution_count": 25,
     "metadata": {},
     "output_type": "execute_result"
    }
   ],
   "source": [
    "#Accuracy\n",
    "result = MODEL1.score(X_test,y_test)\n",
    "result"
   ]
  },
  {
   "cell_type": "code",
   "execution_count": null,
   "id": "d9a441f2",
   "metadata": {},
   "outputs": [],
   "source": []
  }
 ],
 "metadata": {
  "kernelspec": {
   "display_name": "Python 3",
   "language": "python",
   "name": "python3"
  },
  "language_info": {
   "codemirror_mode": {
    "name": "ipython",
    "version": 3
   },
   "file_extension": ".py",
   "mimetype": "text/x-python",
   "name": "python",
   "nbconvert_exporter": "python",
   "pygments_lexer": "ipython3",
   "version": "3.8.8"
  }
 },
 "nbformat": 4,
 "nbformat_minor": 5
}
